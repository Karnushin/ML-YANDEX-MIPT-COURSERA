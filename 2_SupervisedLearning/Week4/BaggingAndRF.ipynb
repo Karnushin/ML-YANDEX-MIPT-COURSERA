{
 "cells": [
  {
   "cell_type": "code",
   "execution_count": 1,
   "metadata": {},
   "outputs": [],
   "source": [
    "import pandas as pd\n",
    "import numpy as np\n",
    "from sklearn.model_selection import GridSearchCV, cross_val_score\n",
    "from sklearn.datasets import load_digits\n",
    "from sklearn.tree import DecisionTreeClassifier\n",
    "from sklearn.ensemble import BaggingClassifier, RandomForestClassifier\n",
    "import matplotlib.pyplot as plt"
   ]
  },
  {
   "cell_type": "code",
   "execution_count": 2,
   "metadata": {},
   "outputs": [],
   "source": [
    "def WriteAnswer(num):\n",
    "    with open('answer.txt', 'w') as f:\n",
    "        f.write(str(num))"
   ]
  },
  {
   "cell_type": "code",
   "execution_count": 3,
   "metadata": {},
   "outputs": [],
   "source": [
    "data = load_digits()\n",
    "X = data.data\n",
    "y = data.target"
   ]
  },
  {
   "cell_type": "code",
   "execution_count": 4,
   "metadata": {},
   "outputs": [
    {
     "data": {
      "text/plain": [
       "array([0, 1, 2, 3, 4, 5, 6, 7, 8, 9])"
      ]
     },
     "execution_count": 4,
     "metadata": {},
     "output_type": "execute_result"
    }
   ],
   "source": [
    "np.unique(y)"
   ]
  },
  {
   "cell_type": "markdown",
   "metadata": {},
   "source": [
    "## 1"
   ]
  },
  {
   "cell_type": "code",
   "execution_count": 28,
   "metadata": {},
   "outputs": [
    {
     "name": "stdout",
     "output_type": "stream",
     "text": [
      "Accuracy на кросс-валидации для 1 дерева: 0.8308624439503834\n"
     ]
    }
   ],
   "source": [
    "clf = DecisionTreeClassifier(random_state=1)\n",
    "cv_scores_1 = cross_val_score(clf, X, y, n_jobs=-1, cv=10, scoring='accuracy')\n",
    "print('Accuracy на кросс-валидации для 1 дерева: {0}'.format(cv_scores_1.mean()))\n",
    "WriteAnswer(cv_scores_1.mean())"
   ]
  },
  {
   "cell_type": "markdown",
   "metadata": {},
   "source": [
    "## 2"
   ]
  },
  {
   "cell_type": "code",
   "execution_count": 45,
   "metadata": {},
   "outputs": [
    {
     "name": "stdout",
     "output_type": "stream",
     "text": [
      "Accuracy на кросс-валидации для 100 деревьев: 0.9271102572603436\n",
      "Выбираем из всех признаков\n"
     ]
    }
   ],
   "source": [
    "n_trees = 100\n",
    "bagclf = BaggingClassifier(n_estimators=n_trees, random_state=1)\n",
    "cv_scores_2 = cross_val_score(bagclf, X, y, n_jobs=-1, cv=10, scoring='accuracy')\n",
    "print('Accuracy на кросс-валидации для {0} деревьев: {1}\\nВыбираем из всех признаков'. \\\n",
    "      format(n_trees, cv_scores_2.mean()))\n",
    "WriteAnswer(cv_scores_2.mean())"
   ]
  },
  {
   "cell_type": "markdown",
   "metadata": {},
   "source": [
    "## 3 "
   ]
  },
  {
   "cell_type": "code",
   "execution_count": 46,
   "metadata": {},
   "outputs": [
    {
     "name": "stdout",
     "output_type": "stream",
     "text": [
      "Accuracy на кросс-валидации для 100 деревьев: 0.933810128907554\n",
      "Выбираем и случ подмн-ва признаков для всего дерева\n"
     ]
    }
   ],
   "source": [
    "n_trees = 100\n",
    "n_features = X.shape[1]\n",
    "bagclf = BaggingClassifier(n_estimators=n_trees, random_state=1,max_features=int(np.sqrt(n_features)) )\n",
    "cv_scores_3 = cross_val_score(bagclf, X, y, n_jobs=-1, cv=10, scoring='accuracy')\n",
    "print('Accuracy на кросс-валидации для {0} деревьев: {1}\\nВыбираем и случ подмн-ва признаков для всего дерева'. \\\n",
    "      format(n_trees, cv_scores_3.mean()))\n",
    "WriteAnswer(cv_scores_3.mean())"
   ]
  },
  {
   "cell_type": "markdown",
   "metadata": {},
   "source": [
    "## 4"
   ]
  },
  {
   "cell_type": "code",
   "execution_count": 47,
   "metadata": {},
   "outputs": [
    {
     "name": "stdout",
     "output_type": "stream",
     "text": [
      "Accuracy на кросс-валидации для 100 деревьев: 0.9500349636021452\n",
      "Выбираем и случ подмн-ва признаков для каждой вершины\n"
     ]
    }
   ],
   "source": [
    "#именно так устроен RandomForest !\n",
    "n_trees = 100\n",
    "n_features = X.shape[1]\n",
    "clf_tree = DecisionTreeClassifier(random_state=1, max_features='sqrt')\n",
    "bagclf = BaggingClassifier(base_estimator=clf_tree, n_estimators=n_trees, random_state=1)\n",
    "                           \n",
    "cv_scores_3 = cross_val_score(bagclf, X, y, n_jobs=-1, cv=10, scoring='accuracy')\n",
    "print('Accuracy на кросс-валидации для {0} деревьев: {1}\\nВыбираем и случ подмн-ва признаков для каждой вершины'. \\\n",
    "      format(n_trees, cv_scores_3.mean()))\n",
    "WriteAnswer(cv_scores_3.mean())"
   ]
  },
  {
   "cell_type": "markdown",
   "metadata": {},
   "source": [
    "## 5\n",
    "ответ: 2 3 4 7"
   ]
  },
  {
   "cell_type": "code",
   "execution_count": 48,
   "metadata": {},
   "outputs": [
    {
     "name": "stdout",
     "output_type": "stream",
     "text": [
      "Accuracy на кросс-валидации для 100 деревьев: 0.9500349636021452\n",
      "Случайный лес из sklearn в чистом виде\n"
     ]
    }
   ],
   "source": [
    "n_trees = 100\n",
    "clf_rf = RandomForestClassifier(n_estimators=n_trees, random_state=1)\n",
    "cv_scores_3 = cross_val_score(bagclf, X, y, n_jobs=-1, cv=10, scoring='accuracy')\n",
    "print('Accuracy на кросс-валидации для {0} деревьев: {1}\\nСлучайный лес из sklearn в чистом виде'. \\\n",
    "      format(n_trees, cv_scores_3.mean()))"
   ]
  },
  {
   "cell_type": "markdown",
   "metadata": {},
   "source": [
    "### 5(1,2,3)"
   ]
  },
  {
   "cell_type": "code",
   "execution_count": 58,
   "metadata": {},
   "outputs": [
    {
     "data": {
      "image/png": "[encoded data removed]",
      "text/plain": [
       "<Figure size 576x432 with 1 Axes>"
      ]
     },
     "metadata": {
      "needs_background": "light"
     },
     "output_type": "display_data"
    }
   ],
   "source": [
    "trees = [5, 20, 50, 100, 300, 500, 1000]\n",
    "scores = []\n",
    "for n in trees:\n",
    "    clf_rf = RandomForestClassifier(n_estimators=n, random_state=1)\n",
    "    cv_scores = cross_val_score(clf_rf, X, y, n_jobs=-1, cv=10, scoring='accuracy')\n",
    "    scores.append(cv_scores.mean())\n",
    "plt.figure(figsize=(8,6))\n",
    "plt.plot(trees, scores)\n",
    "plt.grid(True)\n",
    "plt.show()"
   ]
  },
  {
   "cell_type": "markdown",
   "metadata": {},
   "source": [
    "### 5(4,5)"
   ]
  },
  {
   "cell_type": "code",
   "execution_count": 57,
   "metadata": {},
   "outputs": [
    {
     "data": {
      "image/png": "[encoded data removed]",
      "text/plain": [
       "<Figure size 576x432 with 1 Axes>"
      ]
     },
     "metadata": {
      "needs_background": "light"
     },
     "output_type": "display_data"
    }
   ],
   "source": [
    "features = [5, 10, 40, 50, X.shape[1]]\n",
    "scores = []\n",
    "for n in features:\n",
    "    clf_rf = RandomForestClassifier(n_estimators=100, max_features=n, random_state=1)\n",
    "    cv_scores = cross_val_score(clf_rf, X, y, n_jobs=-1, cv=10, scoring='accuracy')\n",
    "    scores.append(cv_scores.mean())\n",
    "plt.figure(figsize=(8,6))\n",
    "plt.plot(features, scores)\n",
    "plt.grid(True)\n",
    "plt.show()"
   ]
  },
  {
   "cell_type": "markdown",
   "metadata": {},
   "source": [
    "### 5(6,7)"
   ]
  },
  {
   "cell_type": "code",
   "execution_count": 66,
   "metadata": {},
   "outputs": [
    {
     "data": {
      "image/png": "[encoded data removed]",
      "text/plain": [
       "<Figure size 576x432 with 1 Axes>"
      ]
     },
     "metadata": {
      "needs_background": "light"
     },
     "output_type": "display_data"
    },
    {
     "name": "stdout",
     "output_type": "stream",
     "text": [
      "Если max_depth=None, то score: 0.9572130012266203\n"
     ]
    }
   ],
   "source": [
    "depths = [2, 5, 6, 10, 20, None]\n",
    "scores = []\n",
    "for n in depths:\n",
    "    clf_rf = RandomForestClassifier(n_estimators=100, max_depth=n, random_state=1)\n",
    "    cv_scores = cross_val_score(clf_rf, X, y, n_jobs=-1, cv=10, scoring='accuracy')\n",
    "    scores.append(cv_scores.mean())\n",
    "plt.figure(figsize=(8,6))\n",
    "plt.plot(depths[:-1], scores[:-1])\n",
    "plt.grid(True)\n",
    "plt.show()\n",
    "print('Если max_depth=None, то score: {0}'.format(scores[-1]))"
   ]
  },
  {
   "cell_type": "code",
   "execution_count": null,
   "metadata": {},
   "outputs": [],
   "source": []
  }
 ],
 "metadata": {
  "kernelspec": {
   "display_name": "Python 3",
   "language": "python",
   "name": "python3"
  },
  "language_info": {
   "codemirror_mode": {
    "name": "ipython",
    "version": 3
   },
   "file_extension": ".py",
   "mimetype": "text/x-python",
   "name": "python",
   "nbconvert_exporter": "python",
   "pygments_lexer": "ipython3",
   "version": "3.6.8"
  }
 },
 "nbformat": 4,
 "nbformat_minor": 2
}
