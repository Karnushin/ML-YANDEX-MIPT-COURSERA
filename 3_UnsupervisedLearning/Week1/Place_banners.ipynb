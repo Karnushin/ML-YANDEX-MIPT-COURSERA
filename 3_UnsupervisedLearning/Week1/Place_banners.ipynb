{
 "cells": [
  {
   "cell_type": "code",
   "execution_count": 1,
   "metadata": {},
   "outputs": [],
   "source": [
    "import pandas as pd\n",
    "import numpy as np\n",
    "from sklearn.cluster import MeanShift"
   ]
  },
  {
   "cell_type": "code",
   "execution_count": null,
   "metadata": {},
   "outputs": [],
   "source": [
    "df = pd.read_csv('checkins.dat', sep='|')\n",
    "\n",
    "#в исходных названиях столбцов лишние пробелы, удалим их\n",
    "df.rename(columns=lambda x: x.strip(), inplace=True)"
   ]
  },
  {
   "cell_type": "code",
   "execution_count": 3,
   "metadata": {},
   "outputs": [],
   "source": [
    "#заполним пустые значения (там whitespaces) на NaN\n",
    "df.loc[:, ['latitude', 'longitude']] = df.loc[:, ['latitude', 'longitude']].apply(pd.to_numeric, errors='coerce')\n",
    "\n",
    "#!!!можно сразу так data = pd.read_csv('checkins.dat', sep='|', skipinitialspace=True)\n",
    "#но с именами колонок все равно придется поработать\n",
    "\n",
    "#удалим строки, где в любом из указанных столбцов есть NaN\n",
    "df = df.dropna(axis=0, subset=['latitude', 'longitude'], how='any')\n",
    "\n",
    "df.reset_index(inplace=True,drop=True)"
   ]
  },
  {
   "cell_type": "code",
   "execution_count": 4,
   "metadata": {},
   "outputs": [
    {
     "data": {
      "text/plain": [
       "(396634, 6)"
      ]
     },
     "execution_count": 4,
     "metadata": {},
     "output_type": "execute_result"
    }
   ],
   "source": [
    "df.shape"
   ]
  },
  {
   "cell_type": "code",
   "execution_count": 5,
   "metadata": {},
   "outputs": [],
   "source": [
    "#на всем датасете долго, на 100к строк сильно быстрее, так говорится в описании условия задачи\n",
    "new_df = df.iloc[:10**5]\n",
    "X = new_df.loc[:,['latitude', 'longitude']].values"
   ]
  },
  {
   "cell_type": "code",
   "execution_count": 6,
   "metadata": {},
   "outputs": [],
   "source": [
    "clustering = MeanShift(bandwidth=0.1).fit(X)"
   ]
  },
  {
   "cell_type": "code",
   "execution_count": 7,
   "metadata": {},
   "outputs": [
    {
     "data": {
      "text/plain": [
       "3231"
      ]
     },
     "execution_count": 7,
     "metadata": {},
     "output_type": "execute_result"
    }
   ],
   "source": [
    "len(np.unique(clustering.labels_))"
   ]
  },
  {
   "cell_type": "code",
   "execution_count": 71,
   "metadata": {},
   "outputs": [],
   "source": [
    "#отбросим кластеры, где меньше 16 точек\n",
    "uniqelem_and_counts = np.unique(clustering.labels_, return_counts=True)\n",
    "big_clusters = [x[0] for x in list(zip(uniqelem_and_counts[0],uniqelem_and_counts[1])) if x[1] > 15]"
   ]
  },
  {
   "cell_type": "code",
   "execution_count": 72,
   "metadata": {},
   "outputs": [],
   "source": [
    "centers_labels = [x for x in list(zip(clustering.cluster_centers_, clustering.labels_)) if x[1] in big_clusters]"
   ]
  },
  {
   "cell_type": "code",
   "execution_count": 73,
   "metadata": {},
   "outputs": [],
   "source": [
    "#координаты офисов из задания\n",
    "coordinates_offices = {'LA':(33.751277, -118.188740), 'Miami':(25.867736, -80.324116),\n",
    "                       'London':(51.503016, -0.075479), 'Amster':(52.378894, 4.885084),\n",
    "                       'Beijing':(39.366487, 117.036146), 'Sydney':(-33.868457, 151.205134)}"
   ]
  },
  {
   "cell_type": "code",
   "execution_count": 74,
   "metadata": {},
   "outputs": [
    {
     "name": "stdout",
     "output_type": "stream",
     "text": [
      "Ближайший кластер(скопление туристов) - 51 к офису в LA \n",
      "Ближайший кластер(скопление туристов) - 419 к офису в Miami \n",
      "Ближайший кластер(скопление туристов) - 58 к офису в London \n",
      "Ближайший кластер(скопление туристов) - 370 к офису в Amster \n",
      "Ближайший кластер(скопление туристов) - 1980 к офису в Beijing \n",
      "Ближайший кластер(скопление туристов) - 420 к офису в Sydney \n"
     ]
    }
   ],
   "source": [
    "#предсказание ближайшего кластера к каждому из центров\n",
    "for k, v in coordinates_offices.items():\n",
    "    v1, v2 = v\n",
    "    print('Ближайший кластер(скопление туристов) - {1} к офису в {0} '.format(k,clustering.predict([[v1,v2]])[0]))"
   ]
  },
  {
   "cell_type": "code",
   "execution_count": 75,
   "metadata": {},
   "outputs": [],
   "source": [
    "dist_to_offices = {'LA':[], 'Miami':[], 'London':[], 'Amster':[], 'Beijing':[], 'Sydney':[] }\n",
    "for centr, lab in centers_labels:\n",
    "    dist = []\n",
    "    for key, xy_office in coordinates_offices.items():\n",
    "        dist.append((key, np.linalg.norm(xy_office - centr)))\n",
    "    near_office = min(dist, key=lambda t: t[1])\n",
    "    dist_to_offices[near_office[0]].append((near_office[1], centr, lab))\n",
    "for k, v in dist_to_offices.items():\n",
    "    v.sort(key=lambda t: t[0])  "
   ]
  },
  {
   "cell_type": "code",
   "execution_count": 76,
   "metadata": {},
   "outputs": [],
   "source": [
    "c = 20\n",
    "nearest_offices = []\n",
    "for k, v in dist_to_offices.items():\n",
    "    for i, vv in enumerate(v):\n",
    "        if i == 20:\n",
    "            break\n",
    "        nearest_offices.append((k,vv))\n",
    "nearest_offices.sort(key=lambda t: t[1])"
   ]
  },
  {
   "cell_type": "code",
   "execution_count": 77,
   "metadata": {},
   "outputs": [
    {
     "name": "stdout",
     "output_type": "stream",
     "text": [
      "('Sydney', (0.007834758163107856, array([-33.86063043, 151.20477593]), 31))\n"
     ]
    }
   ],
   "source": [
    "#расспечатаем ближайший офис к кластеру\n",
    "print(nearest_offices[0])"
   ]
  },
  {
   "cell_type": "code",
   "execution_count": 78,
   "metadata": {},
   "outputs": [
    {
     "data": {
      "text/plain": [
       "(0.007834758163107856, array([-33.86063043, 151.20477593]), 31)"
      ]
     },
     "execution_count": 78,
     "metadata": {},
     "output_type": "execute_result"
    }
   ],
   "source": [
    "dist_to_offices[nearest_offices[0][0]][0]"
   ]
  },
  {
   "cell_type": "code",
   "execution_count": null,
   "metadata": {},
   "outputs": [],
   "source": []
  }
 ],
 "metadata": {
  "kernelspec": {
   "display_name": "Python 3",
   "language": "python",
   "name": "python3"
  },
  "language_info": {
   "codemirror_mode": {
    "name": "ipython",
    "version": 3
   },
   "file_extension": ".py",
   "mimetype": "text/x-python",
   "name": "python",
   "nbconvert_exporter": "python",
   "pygments_lexer": "ipython3",
   "version": "3.6.8"
  }
 },
 "nbformat": 4,
 "nbformat_minor": 2
}
