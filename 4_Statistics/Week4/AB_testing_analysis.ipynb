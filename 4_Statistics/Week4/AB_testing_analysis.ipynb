{
 "cells": [
  {
   "cell_type": "markdown",
   "metadata": {},
   "source": [
    "## A/B testing analysis"
   ]
  },
  {
   "cell_type": "markdown",
   "metadata": {},
   "source": [
    "By default $\\alpha$ = 0.05"
   ]
  },
  {
   "cell_type": "markdown",
   "metadata": {},
   "source": [
    "Info about data:\n",
    "\n",
    "    There're users which were conducted a/b test on, they were divided on 2 groups (slots): control and experimental (exp)"
   ]
  },
  {
   "cell_type": "code",
   "execution_count": 56,
   "metadata": {},
   "outputs": [],
   "source": [
    "import pandas as pd\n",
    "import numpy as np\n",
    "\n",
    "import seaborn as sns\n",
    "import matplotlib.pyplot as plt\n",
    "from scipy import stats\n",
    "import statsmodels.api as sm"
   ]
  },
  {
   "cell_type": "code",
   "execution_count": 46,
   "metadata": {},
   "outputs": [],
   "source": [
    "ALPHA = 0.05\n",
    "SEED = 0"
   ]
  },
  {
   "cell_type": "code",
   "execution_count": 2,
   "metadata": {},
   "outputs": [
    {
     "data": {
      "text/html": [
       "<div>\n",
       "<style scoped>\n",
       "    .dataframe tbody tr th:only-of-type {\n",
       "        vertical-align: middle;\n",
       "    }\n",
       "\n",
       "    .dataframe tbody tr th {\n",
       "        vertical-align: top;\n",
       "    }\n",
       "\n",
       "    .dataframe thead th {\n",
       "        text-align: right;\n",
       "    }\n",
       "</style>\n",
       "<table border=\"1\" class=\"dataframe\">\n",
       "  <thead>\n",
       "    <tr style=\"text-align: right;\">\n",
       "      <th></th>\n",
       "      <th>userID</th>\n",
       "      <th>browser</th>\n",
       "      <th>slot</th>\n",
       "      <th>n_clicks</th>\n",
       "      <th>n_queries</th>\n",
       "      <th>n_nonclk_queries</th>\n",
       "    </tr>\n",
       "  </thead>\n",
       "  <tbody>\n",
       "    <tr>\n",
       "      <th>0</th>\n",
       "      <td>1</td>\n",
       "      <td>Browser #2</td>\n",
       "      <td>exp</td>\n",
       "      <td>23</td>\n",
       "      <td>32</td>\n",
       "      <td>19</td>\n",
       "    </tr>\n",
       "    <tr>\n",
       "      <th>1</th>\n",
       "      <td>3</td>\n",
       "      <td>Browser #4</td>\n",
       "      <td>exp</td>\n",
       "      <td>3</td>\n",
       "      <td>4</td>\n",
       "      <td>2</td>\n",
       "    </tr>\n",
       "    <tr>\n",
       "      <th>2</th>\n",
       "      <td>5</td>\n",
       "      <td>Browser #4</td>\n",
       "      <td>exp</td>\n",
       "      <td>29</td>\n",
       "      <td>35</td>\n",
       "      <td>16</td>\n",
       "    </tr>\n",
       "    <tr>\n",
       "      <th>3</th>\n",
       "      <td>6</td>\n",
       "      <td>Browser #4</td>\n",
       "      <td>control</td>\n",
       "      <td>12</td>\n",
       "      <td>6</td>\n",
       "      <td>0</td>\n",
       "    </tr>\n",
       "    <tr>\n",
       "      <th>4</th>\n",
       "      <td>7</td>\n",
       "      <td>Browser #4</td>\n",
       "      <td>exp</td>\n",
       "      <td>54</td>\n",
       "      <td>68</td>\n",
       "      <td>30</td>\n",
       "    </tr>\n",
       "  </tbody>\n",
       "</table>\n",
       "</div>"
      ],
      "text/plain": [
       "   userID     browser     slot  n_clicks  n_queries  n_nonclk_queries\n",
       "0       1  Browser #2      exp        23         32                19\n",
       "1       3  Browser #4      exp         3          4                 2\n",
       "2       5  Browser #4      exp        29         35                16\n",
       "3       6  Browser #4  control        12          6                 0\n",
       "4       7  Browser #4      exp        54         68                30"
      ]
     },
     "execution_count": 2,
     "metadata": {},
     "output_type": "execute_result"
    }
   ],
   "source": [
    "df = pd.read_csv('ab_browser_test.csv')\n",
    "df.head()"
   ]
  },
  {
   "cell_type": "code",
   "execution_count": 3,
   "metadata": {},
   "outputs": [],
   "source": [
    "df_exp = df.loc[df['slot']=='exp']\n",
    "df_control = df.loc[df['slot']=='control']"
   ]
  },
  {
   "cell_type": "code",
   "execution_count": 24,
   "metadata": {},
   "outputs": [
    {
     "data": {
      "image/png": "[encoded data removed]",
      "text/plain": [
       "<Figure size 720x360 with 1 Axes>"
      ]
     },
     "metadata": {
      "needs_background": "light"
     },
     "output_type": "display_data"
    }
   ],
   "source": [
    "plt.figure(figsize=(10,5))\n",
    "plt.title('Distribution of clicks')\n",
    "sns.distplot(df_exp['n_clicks'], label='exp')\n",
    "sns.distplot(df_control['n_clicks'], label='control')\n",
    "plt.legend(loc='best')\n",
    "plt.show()"
   ]
  },
  {
   "cell_type": "markdown",
   "metadata": {},
   "source": [
    "### 1"
   ]
  },
  {
   "cell_type": "code",
   "execution_count": 19,
   "metadata": {},
   "outputs": [
    {
     "name": "stdout",
     "output_type": "stream",
     "text": [
      "1.6135689824415809 %\n"
     ]
    }
   ],
   "source": [
    "print((sum(df_exp['n_clicks']) - sum(df_control['n_clicks'])) / sum(df_control['n_clicks']) * 100, '%')"
   ]
  },
  {
   "cell_type": "markdown",
   "metadata": {},
   "source": [
    "### 2"
   ]
  },
  {
   "cell_type": "code",
   "execution_count": 25,
   "metadata": {},
   "outputs": [],
   "source": [
    "def get_bootstrap_samples(data, n_samples):\n",
    "    indices = np.random.randint(0, len(data), (n_samples, len(data)))\n",
    "    samples = data[indices]\n",
    "    return samples\n",
    "\n",
    "def stat_intervals(stat, alpha):\n",
    "    boundaries = np.percentile(stat, [100 * alpha / 2., 100 * (1 - alpha / 2.)])\n",
    "    return boundaries"
   ]
  },
  {
   "cell_type": "code",
   "execution_count": 27,
   "metadata": {},
   "outputs": [],
   "source": [
    "np.random.seed(SEED)\n",
    "\n",
    "medians_exp = list(map(np.median, get_bootstrap_samples(df_exp['n_clicks'].values, 1000)))\n",
    "medians_control = list(map(np.median, get_bootstrap_samples(df_control['n_clicks'].values, 1000)))\n",
    "\n",
    "\n",
    "means_exp = list(map(np.mean, get_bootstrap_samples(df_exp['n_clicks'].values, 1000)))\n",
    "means_control = list(map(np.mean, get_bootstrap_samples(df_control['n_clicks'].values, 1000)))"
   ]
  },
  {
   "cell_type": "code",
   "execution_count": 41,
   "metadata": {},
   "outputs": [
    {
     "name": "stdout",
     "output_type": "stream",
     "text": [
      "95% confidence interval for the exp slot median : [5. 5.]\n",
      "95% confidence interval for the control slot median : [4. 4.]\n",
      "95% confidence interval for the exp slot mean : [11.50674915 11.65758017]\n",
      "95% confidence interval for the control slot mean : [11.21242374 11.35449133]\n"
     ]
    }
   ],
   "source": [
    "print(\"95% confidence interval for the exp slot median :\",  stat_intervals(medians_exp, ALPHA))\n",
    "print(\"95% confidence interval for the control slot median :\",  stat_intervals(medians_control, ALPHA))\n",
    "\n",
    "print(\"95% confidence interval for the exp slot mean :\",  stat_intervals(means_exp, ALPHA))\n",
    "print(\"95% confidence interval for the control slot mean :\",  stat_intervals(means_control, ALPHA))"
   ]
  },
  {
   "cell_type": "code",
   "execution_count": 42,
   "metadata": {},
   "outputs": [],
   "source": [
    "delta_medians = list(map(lambda x: x[1] - x[0], zip(medians_control, medians_exp)))\n",
    "delta_means = list(map(lambda x: x[1] - x[0], zip(means_control, means_exp)))"
   ]
  },
  {
   "cell_type": "code",
   "execution_count": 44,
   "metadata": {},
   "outputs": [
    {
     "name": "stdout",
     "output_type": "stream",
     "text": [
      "95% confidence interval for the difference between medians: [1. 1.]\n",
      "95% confidence interval for the difference between means: [0.19866114 0.40975645]\n"
     ]
    }
   ],
   "source": [
    "print(f\"95% confidence interval for the difference between medians: {stat_intervals(delta_medians, ALPHA)}\")\n",
    "print(f\"95% confidence interval for the difference between means: {stat_intervals(delta_means, ALPHA)}\")"
   ]
  },
  {
   "cell_type": "markdown",
   "metadata": {},
   "source": [
    "### 3\n",
    "question without computations"
   ]
  },
  {
   "cell_type": "markdown",
   "metadata": {},
   "source": [
    "### 4"
   ]
  },
  {
   "cell_type": "code",
   "execution_count": 47,
   "metadata": {},
   "outputs": [],
   "source": [
    "np.random.seed(SEED)\n",
    "boost_samples = get_bootstrap_samples(df_control['n_clicks'].values, 500)"
   ]
  },
  {
   "cell_type": "code",
   "execution_count": 49,
   "metadata": {},
   "outputs": [],
   "source": [
    "means_boost = list(map(np.mean, boost_samples))"
   ]
  },
  {
   "cell_type": "code",
   "execution_count": 52,
   "metadata": {},
   "outputs": [],
   "source": [
    "emp_mean = df_control['n_clicks'].mean()\n",
    "def tss(sample):\n",
    "    return sum((sample - emp_mean)**2)\n",
    "\n",
    "tss_boost = list(map(tss, boost_samples))"
   ]
  },
  {
   "cell_type": "code",
   "execution_count": 79,
   "metadata": {},
   "outputs": [
    {
     "data": {
      "image/png": "[encoded data removed]",
      "text/plain": [
       "<Figure size 432x288 with 1 Axes>"
      ]
     },
     "metadata": {
      "needs_background": "light"
     },
     "output_type": "display_data"
    },
    {
     "data": {
      "image/png": "[encoded data removed]",
      "text/plain": [
       "<Figure size 432x288 with 1 Axes>"
      ]
     },
     "metadata": {
      "needs_background": "light"
     },
     "output_type": "display_data"
    }
   ],
   "source": [
    "sm.qqplot(np.array(means_boost), line='r')\n",
    "sm.qqplot(np.array(tss_boost), line='r')\n",
    "plt.show()"
   ]
  },
  {
   "cell_type": "code",
   "execution_count": 84,
   "metadata": {},
   "outputs": [
    {
     "name": "stdout",
     "output_type": "stream",
     "text": [
      "0.998889957441537 0.9977811470775555\n"
     ]
    },
    {
     "data": {
      "image/png": "[encoded data removed]",
      "text/plain": [
       "<Figure size 432x288 with 1 Axes>"
      ]
     },
     "metadata": {
      "needs_background": "light"
     },
     "output_type": "display_data"
    }
   ],
   "source": [
    "r_mean = stats.probplot(means_boost, dist=\"chi2\", sparams=(len(means_boost)-1), plot=plt)[1][2]\n",
    "print(r_mean, r_mean**2)"
   ]
  },
  {
   "cell_type": "code",
   "execution_count": 85,
   "metadata": {},
   "outputs": [
    {
     "name": "stdout",
     "output_type": "stream",
     "text": [
      "0.9986410687320381 0.9972839841582671\n"
     ]
    },
    {
     "data": {
      "image/png": "[encoded data removed]",
      "text/plain": [
       "<Figure size 432x288 with 1 Axes>"
      ]
     },
     "metadata": {
      "needs_background": "light"
     },
     "output_type": "display_data"
    }
   ],
   "source": [
    "r_tss = stats.probplot(tss_boost, dist=\"chi2\", sparams=(len(tss_boost)-1), plot=plt)[1][2]\n",
    "print(r_tss, r_tss**2)"
   ]
  },
  {
   "cell_type": "markdown",
   "metadata": {},
   "source": [
    "### 5 "
   ]
  },
  {
   "cell_type": "code",
   "execution_count": 93,
   "metadata": {},
   "outputs": [],
   "source": [
    "sum_clicks_control = df_control.groupby(by=['userID'])['n_clicks'].sum()\n",
    "sum_clicks_exp = df_exp.groupby(by=['userID'])['n_clicks'].sum()"
   ]
  },
  {
   "cell_type": "code",
   "execution_count": 98,
   "metadata": {},
   "outputs": [
    {
     "data": {
      "image/png": "[encoded data removed]",
      "text/plain": [
       "<Figure size 432x288 with 1 Axes>"
      ]
     },
     "metadata": {
      "needs_background": "light"
     },
     "output_type": "display_data"
    }
   ],
   "source": [
    "sns.distplot(sum_clicks_exp, label='exp')\n",
    "sns.distplot(sum_clicks_control, label='control')\n",
    "plt.legend(loc='best')\n",
    "plt.show()"
   ]
  },
  {
   "cell_type": "code",
   "execution_count": 101,
   "metadata": {},
   "outputs": [
    {
     "name": "stdout",
     "output_type": "stream",
     "text": [
      "MannwhitneyuResult(statistic=38901259929.0, pvalue=4.3471471887604393e-75)\n"
     ]
    }
   ],
   "source": [
    "print(stats.mannwhitneyu(sum_clicks_control.values, sum_clicks_exp.values))"
   ]
  },
  {
   "cell_type": "markdown",
   "metadata": {},
   "source": [
    "### 6"
   ]
  },
  {
   "cell_type": "code",
   "execution_count": 131,
   "metadata": {},
   "outputs": [],
   "source": [
    "import statsmodels.stats.multitest as smm"
   ]
  },
  {
   "cell_type": "code",
   "execution_count": 107,
   "metadata": {},
   "outputs": [],
   "source": [
    "uniq_browsers = df['browser'].unique()"
   ]
  },
  {
   "cell_type": "code",
   "execution_count": 117,
   "metadata": {},
   "outputs": [],
   "source": [
    "d1, d2 = {}, {}\n",
    "for browser in uniq_browsers:\n",
    "    d1[browser] = df_control[df_control['browser']==browser].groupby(by=['userID'])['n_clicks'].sum()\n",
    "    d2[browser] = df_exp[df_exp['browser']==browser].groupby(by=['userID'])['n_clicks'].sum()"
   ]
  },
  {
   "cell_type": "code",
   "execution_count": 129,
   "metadata": {},
   "outputs": [
    {
     "name": "stdout",
     "output_type": "stream",
     "text": [
      "{'Browser #2': 0.0272438604197241, 'Browser #4': 0.40760617658454984, 'Browser #14': 0.0, 'Browser #17': 0.03740060143010802, 'Browser #20': 0.45366656388735377, 'Browser #22': 0.2574055152210032}\n"
     ]
    }
   ],
   "source": [
    "p_vals = {}\n",
    "for browser in uniq_browsers:\n",
    "    p_vals[browser] = stats.mannwhitneyu(d1[browser], d2[browser])[1]\n",
    "print(p_vals)"
   ]
  },
  {
   "cell_type": "code",
   "execution_count": 130,
   "metadata": {},
   "outputs": [
    {
     "name": "stdout",
     "output_type": "stream",
     "text": [
      "Browser #2\n",
      "Browser #14\n",
      "Browser #17\n"
     ]
    }
   ],
   "source": [
    "for k, p in p_vals.items():\n",
    "    if p < ALPHA:\n",
    "        print(k)"
   ]
  },
  {
   "cell_type": "code",
   "execution_count": 136,
   "metadata": {},
   "outputs": [
    {
     "name": "stdout",
     "output_type": "stream",
     "text": [
      "5\n"
     ]
    }
   ],
   "source": [
    "#Holm-Bonferroni correction since we'd like to test several hypotheses\n",
    "reject, p_corrected, a1, a2 = smm.multipletests(list(p_vals.values()), alpha=ALPHA, method='holm')\n",
    "#number of statistically nonsignificant differences\n",
    "print(len(np.where(p_corrected > ALPHA)[0]))"
   ]
  },
  {
   "cell_type": "markdown",
   "metadata": {},
   "source": [
    "### 7"
   ]
  },
  {
   "cell_type": "code",
   "execution_count": 162,
   "metadata": {},
   "outputs": [],
   "source": [
    "uniq_browsers = df['browser'].unique()\n",
    "d1, d2 = {}, {}\n",
    "for browser in uniq_browsers:\n",
    "    cont_br = df_control.loc[df_control['browser']==browser, ['n_nonclk_queries', 'n_queries']].sum()\n",
    "    exp_br = df_exp.loc[df_exp['browser']==browser, ['n_nonclk_queries', 'n_queries']].sum()\n",
    "    \n",
    "    d1[browser] = (cont_br['n_nonclk_queries'] / cont_br['n_queries'] * 100)\n",
    "    d2[browser] = (exp_br['n_nonclk_queries'] / exp_br['n_queries'] * 100)\n",
    "    "
   ]
  },
  {
   "cell_type": "code",
   "execution_count": 166,
   "metadata": {},
   "outputs": [
    {
     "name": "stdout",
     "output_type": "stream",
     "text": [
      "Browser #2 control: 45.96274717919465, exp: 44.982746948554706, diff: 0.9800002306399449\n",
      "Browser #4 control: 46.97092963514274, exp: 45.14294190358467, diff: 1.8279877315580677\n",
      "Browser #14 control: 57.59041136008114, exp: 43.755617361273295, diff: 13.834793998807847\n",
      "Browser #17 control: 36.29936674628208, exp: 36.93741284866483, diff: -0.6380461023827451\n",
      "Browser #20 control: 40.540484743383296, exp: 38.97737648371716, diff: 1.5631082596661372\n",
      "Browser #22 control: 40.593976593513354, exp: 39.85394721969546, diff: 0.7400293738178902\n"
     ]
    }
   ],
   "source": [
    "for br in uniq_browsers:\n",
    "    print(f\"{br} control: {d1[br]}, exp: {d2[br]}, diff: {d1[br]-d2[br]}\")"
   ]
  }
 ],
 "metadata": {
  "kernelspec": {
   "display_name": "Python 3",
   "language": "python",
   "name": "python3"
  },
  "language_info": {
   "codemirror_mode": {
    "name": "ipython",
    "version": 3
   },
   "file_extension": ".py",
   "mimetype": "text/x-python",
   "name": "python",
   "nbconvert_exporter": "python",
   "pygments_lexer": "ipython3",
   "version": "3.6.8"
  }
 },
 "nbformat": 4,
 "nbformat_minor": 2
}
