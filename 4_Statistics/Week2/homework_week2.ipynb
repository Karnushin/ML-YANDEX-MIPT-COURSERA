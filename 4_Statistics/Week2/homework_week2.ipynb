{
 "cells": [
  {
   "cell_type": "code",
   "execution_count": 3,
   "metadata": {},
   "outputs": [],
   "source": [
    "import scipy.stats as stats\n",
    "import numpy as np\n",
    "import pandas as pd\n",
    "from sklearn.linear_model import LinearRegression, LogisticRegression\n",
    "from sklearn.ensemble import RandomForestRegressor\n",
    "from sklearn.model_selection import train_test_split\n",
    "from sklearn.metrics import mean_absolute_error, accuracy_score\n",
    "from statsmodels.stats.weightstats import *\n",
    "\n",
    "from statsmodels.stats.descriptivestats import sign_test\n",
    "from statsmodels.stats.weightstats import zconfint"
   ]
  },
  {
   "cell_type": "markdown",
   "metadata": {},
   "source": [
    "## Критерии Стьюдента\n",
    "#### Тест 1"
   ]
  },
  {
   "cell_type": "code",
   "execution_count": 4,
   "metadata": {},
   "outputs": [],
   "source": [
    "n = 160\n",
    "mu0 = 9.5\n",
    "x_mean = 9.57\n",
    "s = 0.4\n",
    "def z_1sample(x_mean, mu0, s, n):\n",
    "    return (x_mean - mu0) / (s / np.sqrt(n))"
   ]
  },
  {
   "cell_type": "code",
   "execution_count": 5,
   "metadata": {},
   "outputs": [
    {
     "data": {
      "text/plain": [
       "0.026856695507523787"
      ]
     },
     "execution_count": 5,
     "metadata": {},
     "output_type": "execute_result"
    }
   ],
   "source": [
    "#так как известно стандартное отклонение из ген совокупности, то исполь-ся Z-критерий!\n",
    "2 * (1 - stats.norm.cdf(abs(z_1sample(x_mean, mu0, s, n))))"
   ]
  },
  {
   "cell_type": "code",
   "execution_count": 6,
   "metadata": {},
   "outputs": [],
   "source": [
    "df = pd.read_csv('diamonds.txt', sep='\\t')"
   ]
  },
  {
   "cell_type": "code",
   "execution_count": 7,
   "metadata": {},
   "outputs": [
    {
     "data": {
      "text/html": [
       "<div>\n",
       "<style scoped>\n",
       "    .dataframe tbody tr th:only-of-type {\n",
       "        vertical-align: middle;\n",
       "    }\n",
       "\n",
       "    .dataframe tbody tr th {\n",
       "        vertical-align: top;\n",
       "    }\n",
       "\n",
       "    .dataframe thead th {\n",
       "        text-align: right;\n",
       "    }\n",
       "</style>\n",
       "<table border=\"1\" class=\"dataframe\">\n",
       "  <thead>\n",
       "    <tr style=\"text-align: right;\">\n",
       "      <th></th>\n",
       "      <th>carat</th>\n",
       "      <th>depth</th>\n",
       "      <th>table</th>\n",
       "      <th>price</th>\n",
       "      <th>x</th>\n",
       "      <th>y</th>\n",
       "      <th>z</th>\n",
       "    </tr>\n",
       "  </thead>\n",
       "  <tbody>\n",
       "    <tr>\n",
       "      <th>0</th>\n",
       "      <td>0.23</td>\n",
       "      <td>61.5</td>\n",
       "      <td>55.0</td>\n",
       "      <td>326</td>\n",
       "      <td>3.95</td>\n",
       "      <td>3.98</td>\n",
       "      <td>2.43</td>\n",
       "    </tr>\n",
       "    <tr>\n",
       "      <th>1</th>\n",
       "      <td>0.21</td>\n",
       "      <td>59.8</td>\n",
       "      <td>61.0</td>\n",
       "      <td>326</td>\n",
       "      <td>3.89</td>\n",
       "      <td>3.84</td>\n",
       "      <td>2.31</td>\n",
       "    </tr>\n",
       "  </tbody>\n",
       "</table>\n",
       "</div>"
      ],
      "text/plain": [
       "   carat  depth  table  price     x     y     z\n",
       "0   0.23   61.5   55.0    326  3.95  3.98  2.43\n",
       "1   0.21   59.8   61.0    326  3.89  3.84  2.31"
      ]
     },
     "execution_count": 7,
     "metadata": {},
     "output_type": "execute_result"
    }
   ],
   "source": [
    "df.head(2)"
   ]
  },
  {
   "cell_type": "code",
   "execution_count": 8,
   "metadata": {},
   "outputs": [],
   "source": [
    "X_train, X_test, y_train, y_test = train_test_split(df.drop(['price'], axis=1), df['price'],\n",
    "                                                    test_size=0.25, random_state=1)"
   ]
  },
  {
   "cell_type": "code",
   "execution_count": 9,
   "metadata": {},
   "outputs": [
    {
     "name": "stderr",
     "output_type": "stream",
     "text": [
      "/Users/Barnett/anaconda3/lib/python3.6/site-packages/sklearn/ensemble/forest.py:246: FutureWarning: The default value of n_estimators will change from 10 in version 0.20 to 100 in 0.22.\n",
      "  \"10 in version 0.20 to 100 in 0.22.\", FutureWarning)\n"
     ]
    }
   ],
   "source": [
    "lin_mod = LinearRegression()\n",
    "lin_mod.fit(X_train, y_train)\n",
    "y_pred_lin = lin_mod.predict(X_test)\n",
    "\n",
    "rfc = RandomForestRegressor(random_state=1)\n",
    "rfc.fit(X_train, y_train)\n",
    "y_pred_rfc = rfc.predict(X_test)"
   ]
  },
  {
   "cell_type": "code",
   "execution_count": 10,
   "metadata": {},
   "outputs": [
    {
     "data": {
      "text/plain": [
       "(890.3764004285592, 802.9205172724115)"
      ]
     },
     "execution_count": 10,
     "metadata": {},
     "output_type": "execute_result"
    }
   ],
   "source": [
    "#просто для себя посчитал метрику\n",
    "mean_absolute_error(y_test, y_pred_lin), mean_absolute_error(y_test, y_pred_rfc)"
   ]
  },
  {
   "cell_type": "code",
   "execution_count": 11,
   "metadata": {},
   "outputs": [],
   "source": [
    "abs_error_lin = abs(y_test - y_pred_lin)\n",
    "abs_error_rfc = abs(y_test - y_pred_rfc)"
   ]
  },
  {
   "cell_type": "code",
   "execution_count": 12,
   "metadata": {},
   "outputs": [
    {
     "data": {
      "text/plain": [
       "Ttest_relResult(statistic=13.017729783878393, pvalue=1.655174575144972e-38)"
      ]
     },
     "execution_count": 12,
     "metadata": {},
     "output_type": "execute_result"
    }
   ],
   "source": [
    "#так как на одних и тех же даных => выборки связанные\n",
    "stats.ttest_rel(abs_error_lin, abs_error_rfc)"
   ]
  },
  {
   "cell_type": "code",
   "execution_count": 13,
   "metadata": {},
   "outputs": [
    {
     "name": "stdout",
     "output_type": "stream",
     "text": [
      "95% confidence interval: [74.287245, 100.624521]\n"
     ]
    }
   ],
   "source": [
    "print(\"95%% confidence interval: [%f, %f]\" % DescrStatsW(abs_error_lin - abs_error_rfc).tconfint_mean())"
   ]
  },
  {
   "cell_type": "markdown",
   "metadata": {},
   "source": [
    "## Параметрические тесты\n",
    "#### Тест 2"
   ]
  },
  {
   "cell_type": "code",
   "execution_count": 14,
   "metadata": {},
   "outputs": [],
   "source": [
    "def proportions_diff_z_test(z_stat, alternative = 'two-sided'):\n",
    "    if alternative not in ('two-sided', 'less', 'greater'):\n",
    "        raise ValueError(\"alternative not recognized\\n\"\n",
    "                         \"should be 'two-sided', 'less' or 'greater'\")\n",
    "    \n",
    "    if alternative == 'two-sided':\n",
    "        return 2 * (1 - stats.norm.cdf(np.abs(z_stat)))\n",
    "    \n",
    "    if alternative == 'less':\n",
    "        return stats.norm.cdf(z_stat)\n",
    "\n",
    "    if alternative == 'greater':\n",
    "        return 1 - stats.norm.cdf(z_stat)\n",
    "    \n",
    "def proportions_diff_z_stat_ind(n1=None, n2=None, cnt_pos1=None, cnt_pos2=None,\n",
    "                                p1=None, p2=None, sample1=None, sample2=None):\n",
    "    if sample1 is not None:\n",
    "        n1 = len(sample1)\n",
    "        cnt_pos1 = sum(sample1)\n",
    "        #подсчет вероятноти для 1-й популяции\n",
    "        p1 = cnt_pos1 / n1\n",
    "    elif n1 is not None and cnt_pos1 is not None:\n",
    "        p1 = cnt_pos1 / n1\n",
    "    else:\n",
    "        assert(n1 is not None) , 'You give no sample, no cnt_pos1, so it must be p1 and n1'\n",
    "        \n",
    "    if sample2 is not None:\n",
    "        n2 = len(sample2)\n",
    "        cnt_pos2 = sum(sample2)\n",
    "        #подсчет вероятноти для 2-й популяции\n",
    "        p2 = cnt_pos2 / n2\n",
    "    elif n2 is not None and cnt_pos2 is not None:\n",
    "        p2 = cnt_pos2 / n2\n",
    "    else:\n",
    "        assert(n1 is not None) , 'You give no sample, no cnt_pos1, so it must be p1 and n1'\n",
    "        \n",
    "    P = (p1*n1 + p2*n2) / (n1 + n2)\n",
    "    \n",
    "    return (p1 - p2) / np.sqrt(P * (1 - P) * (1. / n1 + 1. / n2))\n",
    "\n",
    "def proportions_diff_confint_rel(sample1, sample2, alpha = 0.05):\n",
    "    z = stats.norm.ppf(1 - alpha / 2.)\n",
    "    sample = list(zip(sample1, sample2))\n",
    "    n = len(sample)\n",
    "        \n",
    "    f = sum([1 if (x[0] == 1 and x[1] == 0) else 0 for x in sample])\n",
    "    g = sum([1 if (x[0] == 0 and x[1] == 1) else 0 for x in sample])\n",
    "    \n",
    "    left_boundary = float(f - g) / n  - z * np.sqrt(float((f + g)) / n**2 - float((f - g)**2) / n**3)\n",
    "    right_boundary = float(f - g) / n  + z * np.sqrt(float((f + g)) / n**2 - float((f - g)**2) / n**3)\n",
    "    return (left_boundary, right_boundary)\n",
    "\n",
    "def proportions_diff_z_stat_rel(sample1, sample2):\n",
    "    sample = list(zip(sample1, sample2))\n",
    "    n = len(sample)\n",
    "    \n",
    "    f = sum([1 if (x[0] == 1 and x[1] == 0) else 0 for x in sample])\n",
    "    g = sum([1 if (x[0] == 0 and x[1] == 1) else 0 for x in sample])\n",
    "    \n",
    "    return (f - g) / np.sqrt(f + g - (f - g)**2 / n)"
   ]
  },
  {
   "cell_type": "code",
   "execution_count": 16,
   "metadata": {},
   "outputs": [
    {
     "name": "stdout",
     "output_type": "stream",
     "text": [
      "4.411764705882354 %\n",
      "0.37293045872523534\n"
     ]
    }
   ],
   "source": [
    "#3\n",
    "#группа поделена на эксп и контр => выборки независимые => используем Z-критерий для доли для незав выборок\n",
    "\n",
    "n1, n2 = 34, 16\n",
    "k_pos1, k_pos2 = 10, 4\n",
    "print(100*abs(k_pos1 / n1 - k_pos2 / n2), '%')\n",
    "z_stat = proportions_diff_z_stat_ind(n1=n1, n2=n2, cnt_pos1=k_pos1, cnt_pos2=k_pos2)\n",
    "print(proportions_diff_z_test(z_stat, alternative='greater'))"
   ]
  },
  {
   "cell_type": "code",
   "execution_count": 145,
   "metadata": {},
   "outputs": [
    {
     "name": "stdout",
     "output_type": "stream",
     "text": [
      "Check length: True\n"
     ]
    }
   ],
   "source": [
    "#4 выборки связанные, тк обучаемся на одних и тех же объектах!!\n",
    "#несмотря на то, что признаки объектов берем разные, можно грубо считать это как параметр модели-выбор признаков!!\n",
    "df = pd.read_csv('banknotes.txt', sep='\\t')\n",
    "X_train, X_test, y_train, y_test = train_test_split(df.drop(['real'], axis=1), df['real'], random_state=1,\n",
    "                                                    test_size=50)\n",
    "print('Check length: {0}'.format(X_test.shape[0]==50))"
   ]
  },
  {
   "cell_type": "code",
   "execution_count": 209,
   "metadata": {},
   "outputs": [
    {
     "name": "stdout",
     "output_type": "stream",
     "text": [
      "0.0032969384555543435 2.9386041680175268\n",
      "Accuracy: 1-st clf: 0.8, 2-d clf: 0.98\n"
     ]
    }
   ],
   "source": [
    "logreg1 = LogisticRegression(solver='liblinear')\n",
    "logreg2 = LogisticRegression(solver='liblinear')\n",
    "logreg1.fit(X_train[['X1', 'X2', 'X3']], y_train)\n",
    "logreg2.fit(X_train[['X4', 'X5', 'X6']], y_train)\n",
    "y_pr1 = logreg1.predict(X_test[['X1', 'X2', 'X3']])\n",
    "y_pr2 = logreg2.predict(X_test[['X4', 'X5', 'X6']])\n",
    "\n",
    "z_stat = proportions_diff_z_stat_rel(y_test!=y_pr1, y_test!=y_pr2)\n",
    "p_value = proportions_diff_z_test(z_stat)\n",
    "print(p_value, z_stat)\n",
    "print('Accuracy: 1-st clf: {0}, 2-d clf: {1}'.format(accuracy_score(y_test, y_pr1),accuracy_score(y_test, y_pr2)))\n"
   ]
  },
  {
   "cell_type": "code",
   "execution_count": 211,
   "metadata": {},
   "outputs": [
    {
     "data": {
      "text/plain": [
       "(0.059945206279614305, 0.3000547937203857)"
      ]
     },
     "execution_count": 211,
     "metadata": {},
     "output_type": "execute_result"
    }
   ],
   "source": [
    "#5\n",
    "proportions_diff_confint_rel(y_test!=y_pr1, y_test!=y_pr2)"
   ]
  },
  {
   "cell_type": "code",
   "execution_count": 219,
   "metadata": {},
   "outputs": [
    {
     "name": "stdout",
     "output_type": "stream",
     "text": [
      "1.6399999999999977\n"
     ]
    },
    {
     "data": {
      "text/plain": [
       "0.05050258347410397"
      ]
     },
     "execution_count": 219,
     "metadata": {},
     "output_type": "execute_result"
    }
   ],
   "source": [
    "#6\n",
    "z_stat = (541.4-525)/(100/np.sqrt(100))\n",
    "print(z_stat)\n",
    "proportions_diff_z_test(z_stat, 'greater')"
   ]
  },
  {
   "cell_type": "code",
   "execution_count": 220,
   "metadata": {},
   "outputs": [
    {
     "name": "stdout",
     "output_type": "stream",
     "text": [
      "1.65\n"
     ]
    },
    {
     "data": {
      "text/plain": [
       "0.0494714680336481"
      ]
     },
     "execution_count": 220,
     "metadata": {},
     "output_type": "execute_result"
    }
   ],
   "source": [
    "#7\n",
    "z_stat = (541.5-525)/(100/np.sqrt(100))\n",
    "print(z_stat)\n",
    "proportions_diff_z_test(z_stat, 'greater')"
   ]
  },
  {
   "cell_type": "markdown",
   "metadata": {},
   "source": [
    "## Непараметрические критерии\n",
    "#### Тест 3"
   ]
  },
  {
   "cell_type": "code",
   "execution_count": 305,
   "metadata": {},
   "outputs": [
    {
     "name": "stdout",
     "output_type": "stream",
     "text": [
      "M: 17, p-value: 0.284503\n"
     ]
    }
   ],
   "source": [
    "#4\n",
    "print(\"M: %d, p-value: %f\" % stats.wilcoxon(np.array([49,58,75,110,112,132,151,276,281,362]) - 200))"
   ]
  },
  {
   "cell_type": "code",
   "execution_count": 329,
   "metadata": {},
   "outputs": [
    {
     "name": "stdout",
     "output_type": "stream",
     "text": [
      "0.9453125\n"
     ]
    },
    {
     "data": {
      "text/plain": [
       "0.9443359375000009"
      ]
     },
     "execution_count": 329,
     "metadata": {},
     "output_type": "execute_result"
    }
   ],
   "source": [
    "#так получается результат который вычисляется в лекциях, используя знаковый критерий и альтернативу \"больше\"\n",
    "l = [49,58,75,110,112,132,151,276,281,362]\n",
    "cnt_1 = sum([1 if x > 200 else 0 for x in l])\n",
    "print(stats.binom_test(cnt_1, len(l), 0.5, alternative = 'greater'))\n",
    "#а если руками, то получается так!\n",
    "bindist = stats.binom(10, 0.5)\n",
    "pmf = bindist.pmf(range(10))\n",
    "sum([x for x, ix in zip(pmf, range(10)) if ix >= 3])"
   ]
  },
  {
   "cell_type": "code",
   "execution_count": 301,
   "metadata": {},
   "outputs": [
    {
     "data": {
      "text/plain": [
       "MannwhitneyuResult(statistic=27.0, pvalue=0.02900499272087373)"
      ]
     },
     "execution_count": 301,
     "metadata": {},
     "output_type": "execute_result"
    }
   ],
   "source": [
    "#5\n",
    "stats.mannwhitneyu([22,22,15,13,19,19,18,20,21,13,13,15], [17,18,18,15,12,4,14])"
   ]
  },
  {
   "cell_type": "code",
   "execution_count": 287,
   "metadata": {},
   "outputs": [],
   "source": [
    "#6    \n",
    "def get_bootstrap_samples(data, n_samples):\n",
    "    indices = np.random.randint(0, len(data), (n_samples, len(data)))\n",
    "    samples = data[indices]\n",
    "    return samples\n",
    "def stat_intervals(stat, alpha):\n",
    "    boundaries = np.percentile(stat, [100 * alpha / 2., 100 * (1 - alpha / 2.)])\n",
    "    return boundaries"
   ]
  },
  {
   "cell_type": "code",
   "execution_count": 265,
   "metadata": {},
   "outputs": [
    {
     "data": {
      "text/html": [
       "<div>\n",
       "<style scoped>\n",
       "    .dataframe tbody tr th:only-of-type {\n",
       "        vertical-align: middle;\n",
       "    }\n",
       "\n",
       "    .dataframe tbody tr th {\n",
       "        vertical-align: top;\n",
       "    }\n",
       "\n",
       "    .dataframe thead th {\n",
       "        text-align: right;\n",
       "    }\n",
       "</style>\n",
       "<table border=\"1\" class=\"dataframe\">\n",
       "  <thead>\n",
       "    <tr style=\"text-align: right;\">\n",
       "      <th></th>\n",
       "      <th>Temperature</th>\n",
       "      <th>Incident</th>\n",
       "    </tr>\n",
       "  </thead>\n",
       "  <tbody>\n",
       "    <tr>\n",
       "      <th>Apr12.81</th>\n",
       "      <td>18.9</td>\n",
       "      <td>0</td>\n",
       "    </tr>\n",
       "    <tr>\n",
       "      <th>Nov12.81</th>\n",
       "      <td>21.1</td>\n",
       "      <td>1</td>\n",
       "    </tr>\n",
       "    <tr>\n",
       "      <th>Mar22.82</th>\n",
       "      <td>20.6</td>\n",
       "      <td>0</td>\n",
       "    </tr>\n",
       "    <tr>\n",
       "      <th>Nov11.82</th>\n",
       "      <td>20.0</td>\n",
       "      <td>0</td>\n",
       "    </tr>\n",
       "    <tr>\n",
       "      <th>Apr04.83</th>\n",
       "      <td>19.4</td>\n",
       "      <td>0</td>\n",
       "    </tr>\n",
       "  </tbody>\n",
       "</table>\n",
       "</div>"
      ],
      "text/plain": [
       "          Temperature  Incident\n",
       "Apr12.81         18.9         0\n",
       "Nov12.81         21.1         1\n",
       "Mar22.82         20.6         0\n",
       "Nov11.82         20.0         0\n",
       "Apr04.83         19.4         0"
      ]
     },
     "execution_count": 265,
     "metadata": {},
     "output_type": "execute_result"
    }
   ],
   "source": [
    "df = pd.read_csv('challenger.txt', sep='\\t', index_col=0)\n",
    "df.head()"
   ]
  },
  {
   "cell_type": "code",
   "execution_count": 284,
   "metadata": {},
   "outputs": [],
   "source": [
    "temp0 = df[df['Incident']==0]['Temperature'].values\n",
    "temp1 = df[df['Incident']==1]['Temperature'].values"
   ]
  },
  {
   "cell_type": "code",
   "execution_count": 275,
   "metadata": {},
   "outputs": [],
   "source": [
    "np.random.seed(0)\n",
    "samples0 = get_bootstrap_samples(temp0, 1000)\n",
    "samples1 = get_bootstrap_samples(temp1, 1000)"
   ]
  },
  {
   "cell_type": "code",
   "execution_count": 291,
   "metadata": {},
   "outputs": [
    {
     "data": {
      "text/plain": [
       "array([1.42299107, 7.93861607])"
      ]
     },
     "execution_count": 291,
     "metadata": {},
     "output_type": "execute_result"
    }
   ],
   "source": [
    "samples0_mean = np.array(list(map(np.mean, samples0)))\n",
    "samples1_mean = np.array(list(map(np.mean, samples1)))\n",
    "stat_intervals(samples0_mean-samples1_mean,0.05)"
   ]
  },
  {
   "cell_type": "code",
   "execution_count": 294,
   "metadata": {},
   "outputs": [],
   "source": [
    "#7\n",
    "def permutation_t_stat_ind(sample1, sample2):\n",
    "    return np.mean(sample1) - np.mean(sample2)\n",
    "\n",
    "def get_random_combinations(n1, n2, max_combinations):\n",
    "    index = list(range(n1 + n2))\n",
    "    indices = set([tuple(index)])\n",
    "    for i in range(max_combinations - 1):\n",
    "        np.random.shuffle(index)\n",
    "        indices.add(tuple(index))\n",
    "    return [(index[:n1], index[n1:]) for index in indices]\n",
    "\n",
    "def permutation_zero_dist_ind(sample1, sample2, max_combinations = None):\n",
    "    joined_sample = np.hstack((sample1, sample2))\n",
    "    n1 = len(sample1)\n",
    "    n = len(joined_sample)\n",
    "    \n",
    "    if max_combinations:\n",
    "        indices = get_random_combinations(n1, len(sample2), max_combinations)\n",
    "    else:\n",
    "        indices = [(list(index), list(filter(lambda i: i not in index, range(n)))) \\\n",
    "                    for index in itertools.combinations(range(n), n1)]\n",
    "    \n",
    "    distr = [joined_sample[list(i[0])].mean() - joined_sample[list(i[1])].mean() \\\n",
    "             for i in indices]\n",
    "    return distr\n",
    "\n",
    "def permutation_test(sample, mean, max_permutations = None, alternative = 'two-sided'):\n",
    "    if alternative not in ('two-sided', 'less', 'greater'):\n",
    "        raise ValueError(\"alternative not recognized\\n\"\n",
    "                         \"should be 'two-sided', 'less' or 'greater'\")\n",
    "    \n",
    "    t_stat = permutation_t_stat_ind(sample, mean)\n",
    "    \n",
    "    zero_distr = permutation_zero_dist_ind(sample, mean, max_permutations)\n",
    "    \n",
    "    if alternative == 'two-sided':\n",
    "        return sum([1. if abs(x) >= abs(t_stat) else 0. for x in zero_distr]) / len(zero_distr)\n",
    "    \n",
    "    if alternative == 'less':\n",
    "        return sum([1. if x <= t_stat else 0. for x in zero_distr]) / len(zero_distr)\n",
    "\n",
    "    if alternative == 'greater':\n",
    "        return sum([1. if x >= t_stat else 0. for x in zero_distr]) / len(zero_distr)"
   ]
  },
  {
   "cell_type": "code",
   "execution_count": 299,
   "metadata": {},
   "outputs": [
    {
     "name": "stdout",
     "output_type": "stream",
     "text": [
      "p-value: 0.007000\n"
     ]
    }
   ],
   "source": [
    "np.random.seed(0)\n",
    "print(\"p-value: %f\" % permutation_test(temp0, temp1, max_permutations = 10000))"
   ]
  }
 ],
 "metadata": {
  "kernelspec": {
   "display_name": "Python 3",
   "language": "python",
   "name": "python3"
  },
  "language_info": {
   "codemirror_mode": {
    "name": "ipython",
    "version": 3
   },
   "file_extension": ".py",
   "mimetype": "text/x-python",
   "name": "python",
   "nbconvert_exporter": "python",
   "pygments_lexer": "ipython3",
   "version": "3.6.8"
  }
 },
 "nbformat": 4,
 "nbformat_minor": 2
}
