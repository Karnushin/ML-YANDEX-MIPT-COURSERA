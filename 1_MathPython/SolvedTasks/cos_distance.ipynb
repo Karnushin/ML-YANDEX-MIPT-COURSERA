{
 "cells": [
  {
   "cell_type": "code",
   "execution_count": 1,
   "metadata": {},
   "outputs": [],
   "source": [
    "import numpy as np\n",
    "import scipy\n",
    "import re"
   ]
  },
  {
   "cell_type": "code",
   "execution_count": 2,
   "metadata": {},
   "outputs": [],
   "source": [
    "#список для хранения списков из слов. i-й элемент списка lines - список со словами из i-го предложения\n",
    "lines = []\n",
    "with open('sentences.txt', 'r') as file:\n",
    "    for line in file:\n",
    "        #преобразовали предложение, оставив в нем только слова в нижнем регистре, и добавили слова в список\n",
    "        sentence = re.split('[^a-z]', line.strip().lower())\n",
    "        #удаление пустых слов из вышеполученного списка\n",
    "        lines.append(list(filter(None,sentence)))\n",
    "#получение уникальных слов по всему тексту\n",
    "uniqwords = {x for sublist in lines for x in sublist}"
   ]
  },
  {
   "cell_type": "code",
   "execution_count": 3,
   "metadata": {},
   "outputs": [],
   "source": [
    "#матрица размера 22*254,где в позиции i,j число, равное числу вхождений j-го слова в i-е предложение\n",
    "matrix = np.array([[sentence.count(word) for word in uniqwords]for sentence in lines])"
   ]
  },
  {
   "cell_type": "code",
   "execution_count": 4,
   "metadata": {},
   "outputs": [],
   "source": [
    "#нахождение косинусного расстояния от 0-го предложения до всех остальных\n",
    "from scipy.spatial.distance import cosine, cdist\n",
    "dists = []\n",
    "for row in matrix:\n",
    "    dists.append(scipy.spatial.distance.cosine(matrix[0], row))\n",
    "#либо так: #cdist(matrix[0:1], matrix[1:], metric='cosine')"
   ]
  },
  {
   "cell_type": "code",
   "execution_count": 5,
   "metadata": {},
   "outputs": [
    {
     "name": "stdout",
     "output_type": "stream",
     "text": [
      " score =  0.7327387580875756 \n",
      " number = 6 \n",
      " ['domestic', 'cats', 'are', 'similar', 'in', 'size', 'to', 'the', 'other', 'members', 'of', 'the', 'genus', 'felis', 'typically', 'weighing', 'between', 'and', 'kg', 'and', 'lb'] \n",
      "\n",
      " score =  0.7770887149698589 \n",
      " number = 4 \n",
      " ['in', 'one', 'people', 'deliberately', 'tamed', 'cats', 'in', 'a', 'process', 'of', 'artificial', 'selection', 'as', 'they', 'were', 'useful', 'predators', 'of', 'vermin']\n"
     ]
    }
   ],
   "source": [
    "#вывод 2-х наиболее близких по расстоянию предложений по отношению к 1-му, их номера\n",
    "argsorted_dist = np.argsort(dists)\n",
    "print(' score = ', dists[argsorted_dist[1]], '\\n','number =', argsorted_dist[1],'\\n', lines[argsorted_dist[1]], '\\n')\n",
    "print(' score = ', dists[argsorted_dist[2]], '\\n','number =', argsorted_dist[2],'\\n', lines[argsorted_dist[2]])"
   ]
  },
  {
   "cell_type": "code",
   "execution_count": null,
   "metadata": {},
   "outputs": [],
   "source": []
  }
 ],
 "metadata": {
  "kernelspec": {
   "display_name": "Python 3",
   "language": "python",
   "name": "python3"
  },
  "language_info": {
   "codemirror_mode": {
    "name": "ipython",
    "version": 3
   },
   "file_extension": ".py",
   "mimetype": "text/x-python",
   "name": "python",
   "nbconvert_exporter": "python",
   "pygments_lexer": "ipython3",
   "version": "3.6.8"
  }
 },
 "nbformat": 4,
 "nbformat_minor": 2
}
